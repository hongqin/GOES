{
 "cells": [
  {
   "cell_type": "markdown",
   "metadata": {},
   "source": [
    "# Reprojecting GOES JPG and PNG Images to Mercator in Python with GDAL\n",
    "**Lance Berc**\n",
    "\n",
    "2019-12-03\n",
    "\n",
    "## Synopsis\n",
    "Imagery from NASA/NOAA weather satellites is readily available from many sources, but the raw data needs to be reprojected from the satellite's viewpoint to something more familiar for the images to \"make sense\".\n",
    "\n",
    "In my case I want to use the Mercator projection because (a) it's what we're used to from ship's navagational charts and grammer school wall maps, and (b) it allows overlaying some of the weather charts available from NOAA's Ocean Prediction Center. It should be easy to convert this example to other projections such as Lambert Conformal Conic (LCC) used by US aeronautical charts and some NOAA weather models like the NAM and HRRR.\n",
    "\n",
    "Most scientific satellite imagery comes in NetCDF format containing georeferencing information which allows the image to be accurately mapped to the Earth. The simple images we use don't have this so we derive it from satellite parameters.\n",
    "\n",
    "Definitions for GOES-16 and GOES-17 are given; it should be easy to extend to other geostationary satellites such as the European Meteosats and Japan's Himawari-8.\n",
    "\n",
    "In Mode 6 (the current operational mode) GOES satellites produce full-disk images every 10 minutes and CONUS images every 5 minutes. They can also produce images from two higher-resolution Mesoscale regions but because the locations move they aren't handled here.\n",
    "\n",
    "## References\n",
    "\n",
    "GOES projection is defined in section 5.1.2.7 of\n",
    "\n",
    "https://www.goes-r.gov/users/docs/PUG-L1b-vol3.pdf\n",
    "\n",
    "Meteosat projection is defined in section 4.4.3.2 of\n",
    "\n",
    "https://www.cgms-info.org/documents/cgms-lrit-hrit-global-specification-(v2-8-of-30-oct-2013).pdf\n",
    "\n",
    "https://www.cgms-info.org/documents/pdf_cgmf_03.pdf (older version)\n",
    "\n",
    "GDAL/OGR comes from OSGeo, the Open Source Geospatial Foundation. It works with the Proj projection manipulation software.\n",
    "\n",
    "https://www.osgeo.org/\n",
    "\n",
    "https://gdal.org/\n",
    "\n",
    "https://proj.org/\n",
    "\n",
    "Many of the projection's are defined in the EPSG's Well Known Text (WKT) format:\n",
    "\n",
    "https://www.epsg.org\n",
    "\n",
    "NASA and EUMETSAT publish great reference material; it can be a bit dense:\n",
    "\n",
    "https://www.goes-r.gov/resources/docs.html\n",
    "\n",
    "https://www.eumetsat.int/website/home/Data/TechnicalDocuments/index.html\n",
    "\n",
    "##### Nota Bene\n",
    "This example reprojects a raster image into another raster image using GDAL; it's also possible to do this with Matplotlib+Cartopy. Using Cartopy with pcolormesh to reproject a 5000x3000 1k CONUS image took 37 seconds on my home machine - in a loop processing multiple images it occupies all 8GB of RAM; with GDAL a similar operation took about a second and has a working set less than 500MB. GDAL can process a GOES 5424x5424 2k full-disk image in 6 seconds - I haven't waited for pcolormesh to finish."
   ]
  },
  {
   "cell_type": "markdown",
   "metadata": {},
   "source": [
    "## Example 1 - GOES-17 CONUS (PACUS)"
   ]
  },
  {
   "cell_type": "code",
   "execution_count": 1,
   "metadata": {},
   "outputs": [],
   "source": [
    "#!/usr/bin/python\n",
    "import numpy as np\n",
    "from PIL import Image\n",
    "from osgeo import gdal\n",
    "import os"
   ]
  },
  {
   "cell_type": "markdown",
   "metadata": {},
   "source": [
    "The specifications for the GOES satellites fall into two categories. First are those about the orbit and perspective above the GRS-80 ellipsoid. Second are per-resolution items that have the scan angle, raster size, and positioning of the upper-left corner.\n",
    "\n",
    "\"1k\" and \"2k\" represent the per-pixel resolutions of the images. There are both higher- (\".5k\") and lower (\"4k\" and \"10k\") resolutions defined for various instruments."
   ]
  },
  {
   "cell_type": "code",
   "execution_count": 2,
   "metadata": {},
   "outputs": [],
   "source": [
    "goes16 = { # GOES-16, aka GOES-R, GOES-EAST\n",
    "    \"p_height\": 35786023.0,           # perspective height from the ellipsoid\n",
    "    \"height\": 42164160.0,             # from center of the earth\n",
    "    \"longitude\": -75.0,\n",
    "    \"sweep_axis\": 'x',\n",
    "    \"semi_major\": 6378137.0,          # GRS-80 ellipsoid\n",
    "    \"semi_minor\": 6356752.31414,      # GRS-80 ellipsoid\n",
    "    \"flattening\": 298.257222096,\n",
    "    \"eccentricity\": 0.0818191910435,\n",
    "    # The other resolution (.5k, 4k, etc) can be added here\n",
    "    \"1k\": {\n",
    "        \"resolution\": 0.000028,       # radians per pixel\n",
    "        \"FD\": {\n",
    "            \"x_offset\": -0.151858,    # radians from nadir\n",
    "            \"y_offset\":  0.151858,\n",
    "            \"shape\": (10848, 10848),  # pixels in image\n",
    "        },\n",
    "        \"CONUS\": {\n",
    "            \"x_offset\": -0.101346,\n",
    "            \"y_offset\":  0.128226,\n",
    "            \"shape\": (5000, 3000),\n",
    "        }\n",
    "    },\n",
    "    \"2k\": {\n",
    "        \"resolution\": 0.000056,\n",
    "        \"FD\": {\n",
    "            \"x_offset\": -0.151844,\n",
    "            \"y_offset\":  0.151844,\n",
    "            \"shape\": (5424, 5424),\n",
    "        },\n",
    "        \"CONUS\": {\n",
    "            \"x_offset\": -0.101332,\n",
    "            \"y_offset\":  0.128212,\n",
    "            \"shape\": (2500, 1500),\n",
    "        }\n",
    "    }\n",
    "}\n",
    "\n",
    "goes17 = { # GOES-17, aka GOES-S, GOES-WEST\n",
    "    \"p_height\": 35786023.0,\n",
    "    \"height\": 42164160.0,\n",
    "    \"longitude\": -137.0,\n",
    "    \"sweep_axis\": 'x',\n",
    "    \"semi_major\": 6378137.0,\n",
    "    \"semi_minor\": 6356752.31414,\n",
    "    \"flattening\": 298.257222096,\n",
    "    \"eccentricity\": 0.0818191910435,\n",
    "    \"1k\": {\n",
    "        \"resolution\": 0.000028,\n",
    "        \"FD\": {\n",
    "            \"x_offset\": -0.151858,\n",
    "            \"y_offset\":  0.151858,\n",
    "            \"shape\": (10848, 10848),\n",
    "        },\n",
    "        \"CONUS\": { # aka PACUS because it's mostly Pacific Ocean\n",
    "            \"x_offset\": -0.069986,\n",
    "            \"y_offset\":  0.128226,\n",
    "            \"shape\": (5000, 3000),\n",
    "        }\n",
    "    },\n",
    "    \"2k\": {\n",
    "        \"resolution\": 0.000056,\n",
    "        \"FD\": {\n",
    "            \"x_offset\": -0.151844,\n",
    "            \"y_offset\":  0.151844,\n",
    "            \"shape\": (5424, 5424),\n",
    "        },\n",
    "        \"CONUS\": {\n",
    "            \"x_offset\": -0.069972,\n",
    "            \"y_offset\":  0.128212,\n",
    "            \"shape\": (2500, 1500),\n",
    "        }\n",
    "    },\n",
    "}"
   ]
  },
  {
   "cell_type": "markdown",
   "metadata": {},
   "source": [
    "The EPSG definition of Mercator doesn't allow longitudes that extend\n",
    "past -180 or 180 which makes working in the Pacific difficult. Define\n",
    "our own, plus one with the centralized on the anti-meridian to allow\n",
    "working with GOES-17 (which crosses the anti-meridian) continuous."
   ]
  },
  {
   "cell_type": "code",
   "execution_count": 3,
   "metadata": {},
   "outputs": [],
   "source": [
    "proj_mercator =      \"+proj=merc +k=1 +x_0=0 +y_0=0 +datum=WGS84 +units=m +no_defs +over\"\n",
    "proj_anti_mercator = \"+proj=merc +k=1 +x_0=0 +y_0=0 +datum=WGS84 +units=m +no_defs +over +lon_0=-180\""
   ]
  },
  {
   "cell_type": "markdown",
   "metadata": {},
   "source": [
    "Define source & destination files and the output dimensions and coverage area.\n",
    "This interest area isn't exactly \"square\" wrt Mercator, but is close."
   ]
  },
  {
   "cell_type": "code",
   "execution_count": 4,
   "metadata": {},
   "outputs": [],
   "source": [
    "sourcefn = \"./GOES-17_CONUS.jpg\"\n",
    "destfn = \"./GOES-17_Mercator.jpg\"\n",
    "(w, h) = (1280, 720) # 16:9 aspect ratio HD-sized (not FullHD which is 1920x1280)\n",
    "interestArea = [-152.0, 30.0, -110.0, 50.0] # lat/long of ll, ur corners"
   ]
  },
  {
   "cell_type": "markdown",
   "metadata": {},
   "source": [
    "GDAL affine transformation\n",
    "\n",
    "Raster location through geotransform (affine) array `[upperleftx, scalex, skewx, upperlefty, skewy, scaley]`\n",
    "\n",
    "`upperleftx`, `upperlefty`: distance from center (satellite nadir) in meters\n",
    "\n",
    "`scalex`, `scaley`: size of one pixel of raster projection in meters\n",
    "\n",
    "`skewx`, `skewy` are zero because the images are not rotated wrt the equator\n",
    "\n",
    "scaley is negative because scan GOES order is from top (positive) towards bottom (negative). This might have to change for other satellites."
   ]
  },
  {
   "cell_type": "code",
   "execution_count": 10,
   "metadata": {},
   "outputs": [],
   "source": [
    "s = goes17\n",
    "res = s[\"1k\"]\n",
    "sector = res[\"CONUS\"]\n",
    "upper_left_x = sector['x_offset'] * s['p_height']\n",
    "upper_left_y = sector['y_offset'] * s['p_height']\n",
    "resolution_m = res['resolution'] * s['p_height']\n",
    "\n",
    "geotransform = [upper_left_x, resolution_m, 0, upper_left_y, 0, -resolution_m]"
   ]
  },
  {
   "cell_type": "markdown",
   "metadata": {},
   "source": [
    "Proj and EPSG descriptions from NASA specs. The warp option SOURCE_EXTRA is about what to do when the projection is off-earth. Turning on multithreading doesn't seem to improve speed on my Windows7 setup."
   ]
  },
  {
   "cell_type": "code",
   "execution_count": 6,
   "metadata": {},
   "outputs": [],
   "source": [
    "proj = \"+proj=geos +lon_0=%f +h=%f +a=%f +b=%f +f=%f +units=m +no_defs -ellps=GRS80 +sweep=%s +over\" % (\n",
    "        s['longitude'], s['p_height'], s['semi_major'], s['semi_minor'], 1/s['flattening'], s['sweep_axis'])\n",
    "WKT = 'PROJCS[\"unnamed\",GEOGCS[\"unnamed ellipse\",DATUM[\"unknown\",SPHEROID[\"unnamed\",%f,%f]],PRIMEM[\"Greenwich\",0],UNIT[\"degree\",0.0174532925199433]]\\\n",
    ",PROJECTION[\"Geostationary_Satellite\"],PARAMETER[\"central_meridian\",%f],PARAMETER[\"satellite_height\",%f],PARAMETER[\"false_easting\",0],PARAMETER[\"fal\\\n",
    "se_northing\",0],UNIT[\"Meter\",1],EXTENSION[\"PROJ4\",\"%s\"]]' % (s['semi_major'], s['flattening'], s['longitude'], s['p_height'], proj)\n",
    "\n",
    "warpOptions = gdal.WarpOptions(\n",
    "    format=\"MEM\",\n",
    "    width=w,\n",
    "    height=h,\n",
    "    outputBoundsSRS=\"EPSG:4326\", # WGS84 - Allows use of lat/lon outputBounds\n",
    "    outputBounds=interestArea,\n",
    "    dstSRS=proj_anti_mercator, # GOES-17 full-disk crosses the anti-meridian\n",
    "    # Setting GDAL_PAM_ENABLED should suppress sidecar emission, but it doesn't\n",
    "    # warpOptions=[\"SOURCE_EXTRA=1000\", \"GDAL_PAM_ENABLED=FALSE\", \"GDAL_PAM_ENABLED=NO\"],\n",
    "    warpOptions=[\"SOURCE_EXTRA=500\"], # Magic from The Internet\n",
    "    multithread = True, # Not sure if this buys anything on my setup\n",
    ")\n"
   ]
  },
  {
   "cell_type": "markdown",
   "metadata": {},
   "source": [
    "Do the warp, convert to a PIL image, save the image to a file, then clean up."
   ]
  },
  {
   "cell_type": "code",
   "execution_count": 7,
   "metadata": {},
   "outputs": [],
   "source": [
    "src = gdal.Open(sourcefn, gdal.GA_ReadOnly)\n",
    "src.SetGeoTransform(geotransform)\n",
    "src.SetProjection(WKT)\n",
    "\n",
    "dst = gdal.Warp('', src, options=warpOptions)\n",
    "if not dst:\n",
    "    print(\"Warp failed %s\" % (fn))\n",
    "    img = None\n",
    "else:\n",
    "    dsta = dst.ReadAsArray() # Array shape is [band, row, col]\n",
    "    arr = dsta.transpose(1, 2, 0) # Virtually change the shape to [row, col, band]\n",
    "    img = Image.fromarray(arr, 'RGB')\n",
    "    img.save(destfn, \"JPEG\")\n",
    "\n",
    "# Clean up - this is important if running in a loop\n",
    "src = None\n",
    "dst = None\n",
    "dsta = None\n",
    "arr = None\n",
    "\n",
    "# A side effect of setting dst to None is that the sidecar is emmitted when dst is \"closed\"\n",
    "sidecar = \"%s.aux.xml\" % (sourcefn)\n",
    "if os.path.isfile(sidecar): # Would be neat to figure out how to supress sidecar emission\n",
    "    os.unlink(sidecar)"
   ]
  },
  {
   "cell_type": "markdown",
   "metadata": {},
   "source": [
    "### GOES-17 CONUS (PACUS) Input\n",
    "![input image](./GOES-17_CONUS.jpg)\n",
    "### GOES-17 CONUS (PACUS) Output\n",
    "![input image](./GOES-17_MERCATOR.jpg)"
   ]
  },
  {
   "cell_type": "markdown",
   "metadata": {},
   "source": [
    "## Example 2 - GOES-16 Full Disk\n",
    "The same as above, but with GOES-16 Full Disk input at 2k resolution."
   ]
  },
  {
   "cell_type": "code",
   "execution_count": 8,
   "metadata": {},
   "outputs": [],
   "source": [
    "sourcefn = \"./GOES-16_FD.jpg\"\n",
    "destfn = \"./GOES-16_Mercator.jpg\"\n",
    "(w, h) = (1280, 720) # 16:9 aspect ratio HD-sized (not FullHD which is 1920x1280)\n",
    "interestArea = [-90, 18.5, -57, 35] # lat/long of ll, ur corners\n",
    "s = goes16\n",
    "res = s[\"2k\"]\n",
    "sector = res[\"FD\"]"
   ]
  },
  {
   "cell_type": "markdown",
   "metadata": {},
   "source": [
    "Everything else is the same as the above example."
   ]
  },
  {
   "cell_type": "code",
   "execution_count": 9,
   "metadata": {},
   "outputs": [],
   "source": [
    "upper_left_x = sector['x_offset'] * s['p_height']\n",
    "upper_left_y = sector['y_offset'] * s['p_height']\n",
    "resolution_m = res['resolution'] * s['p_height']\n",
    "\n",
    "geotransform = [upper_left_x, resolution_m, 0, upper_left_y, 0, -resolution_m]\n",
    "proj = \"+proj=geos +lon_0=%f +h=%f +a=%f +b=%f +f=%f +units=m +no_defs -ellps=GRS80 +sweep=%s +over\" % (\n",
    "        s['longitude'], s['p_height'], s['semi_major'], s['semi_minor'], 1/s['flattening'], s['sweep_axis'])\n",
    "WKT = 'PROJCS[\"unnamed\",GEOGCS[\"unnamed ellipse\",DATUM[\"unknown\",SPHEROID[\"unnamed\",%f,%f]],PRIMEM[\"Greenwich\",0],UNIT[\"degree\",0.0174532925199433]]\\\n",
    ",PROJECTION[\"Geostationary_Satellite\"],PARAMETER[\"central_meridian\",%f],PARAMETER[\"satellite_height\",%f],PARAMETER[\"false_easting\",0],PARAMETER[\"fal\\\n",
    "se_northing\",0],UNIT[\"Meter\",1],EXTENSION[\"PROJ4\",\"%s\"]]' % (s['semi_major'], s['flattening'], s['longitude'], s['p_height'], proj)\n",
    "\n",
    "warpOptions = gdal.WarpOptions(\n",
    "    format=\"MEM\",\n",
    "    width=w,\n",
    "    height=h,\n",
    "    outputBoundsSRS=\"EPSG:4326\", # WGS84 - Allows use of lat/lon outputBounds\n",
    "    outputBounds=interestArea,\n",
    "    dstSRS=proj_anti_mercator, # GOES-17 full-disk crosses the anti-meridian\n",
    "    # Setting GDAL_PAM_ENABLED should suppress sidecar emission, but it doesn't\n",
    "    # warpOptions=[\"SOURCE_EXTRA=1000\", \"GDAL_PAM_ENABLED=FALSE\", \"GDAL_PAM_ENABLED=NO\"],\n",
    "    warpOptions=[\"SOURCE_EXTRA=500\"], # Magic from The Internet\n",
    "    multithread = True, # Not sure if this buys anything on my setup\n",
    ")\n",
    "src = gdal.Open(sourcefn, gdal.GA_ReadOnly)\n",
    "src.SetGeoTransform(geotransform)\n",
    "src.SetProjection(WKT)\n",
    "\n",
    "dst = gdal.Warp('', src, options=warpOptions)\n",
    "if not dst:\n",
    "    print(\"Warp failed %s\" % (fn))\n",
    "    img = None\n",
    "else:\n",
    "    dsta = dst.ReadAsArray() # Array shape is [band, row, col]\n",
    "    arr = dsta.transpose(1, 2, 0) # Virtually change the shape to [row, col, band]\n",
    "    img = Image.fromarray(arr, 'RGB')\n",
    "    img.save(destfn, \"JPEG\")\n",
    "\n",
    "# Clean up - this is important if running in a loop\n",
    "src = None\n",
    "dst = None\n",
    "dsta = None\n",
    "arr = None\n",
    "\n",
    "# A side effect of setting dst to None is that the sidecar is emmitted when dst is \"closed\"\n",
    "sidecar = \"%s.aux.xml\" % (sourcefn)\n",
    "if os.path.isfile(sidecar): # Would be neat to figure out how to supress sidecar emission\n",
    "    os.unlink(sidecar)"
   ]
  },
  {
   "cell_type": "markdown",
   "metadata": {},
   "source": [
    "### GOES-16 Full Disk Input\n",
    "![input image](./GOES-16_FD.jpg)\n",
    "### GOES-16 Full Disk Output\n",
    "![input image](./GOES-16_MERCATOR.jpg)"
   ]
  }
 ],
 "metadata": {
  "kernelspec": {
   "display_name": "Python 3",
   "language": "python",
   "name": "python3"
  },
  "language_info": {
   "codemirror_mode": {
    "name": "ipython",
    "version": 3
   },
   "file_extension": ".py",
   "mimetype": "text/x-python",
   "name": "python",
   "nbconvert_exporter": "python",
   "pygments_lexer": "ipython3",
   "version": "3.7.4"
  }
 },
 "nbformat": 4,
 "nbformat_minor": 2
}
